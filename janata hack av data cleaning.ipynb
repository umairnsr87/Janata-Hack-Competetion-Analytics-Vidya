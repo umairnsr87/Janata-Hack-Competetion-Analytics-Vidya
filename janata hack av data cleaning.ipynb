{
 "cells": [
  {
   "cell_type": "code",
   "execution_count": 171,
   "metadata": {},
   "outputs": [
    {
     "name": "stdout",
     "output_type": "stream",
     "text": [
      "C:\\Users\\umairansari\\Desktop\\comp data\\analytics vidya\\janata hack\n"
     ]
    },
    {
     "data": {
      "text/plain": [
       "['test_KaymcHn.csv', 'train_jqd04QH.csv']"
      ]
     },
     "execution_count": 171,
     "metadata": {},
     "output_type": "execute_result"
    }
   ],
   "source": [
    "path='C:\\\\Users\\\\umairansari\\\\Desktop\\\\comp data\\\\analytics vidya\\\\janata hack'\n",
    "import os\n",
    "os.chdir(path)\n",
    "print(os.getcwd())\n",
    "import pandas as pd\n",
    "import numpy as np\n",
    "import matplotlib.pyplot as plt\n",
    "import seaborn as sns\n",
    "os.listdir()"
   ]
  },
  {
   "cell_type": "code",
   "execution_count": 172,
   "metadata": {},
   "outputs": [],
   "source": [
    "trained=pd.read_csv(\"train_jqd04QH.csv\")\n",
    "test=pd.read_csv(\"test_KaymcHn.csv\")\n",
    "trained[\"flag\"]=\"train\"\n",
    "test[\"flag\"]=\"test\""
   ]
  },
  {
   "cell_type": "code",
   "execution_count": 173,
   "metadata": {},
   "outputs": [
    {
     "name": "stderr",
     "output_type": "stream",
     "text": [
      "C:\\Users\\umairansari\\Anaconda3\\lib\\site-packages\\ipykernel_launcher.py:1: FutureWarning: Sorting because non-concatenation axis is not aligned. A future version\n",
      "of pandas will change to not sort by default.\n",
      "\n",
      "To accept the future behavior, pass 'sort=False'.\n",
      "\n",
      "To retain the current behavior and silence the warning, pass 'sort=True'.\n",
      "\n",
      "  \"\"\"Entry point for launching an IPython kernel.\n"
     ]
    }
   ],
   "source": [
    "train=pd.concat([trained,test])"
   ]
  },
  {
   "cell_type": "code",
   "execution_count": 174,
   "metadata": {},
   "outputs": [],
   "source": [
    "# import missingno as msno\n",
    "# msno.bar(train)"
   ]
  },
  {
   "cell_type": "code",
   "execution_count": 175,
   "metadata": {},
   "outputs": [
    {
     "name": "stdout",
     "output_type": "stream",
     "text": [
      "missing values in city are 0.0%\n",
      "missing values in city_development_index are 0.0%\n",
      "missing values in company_size are 26.452965847813058%\n",
      "missing values in company_type are 28.067705212702215%\n",
      "missing values in education_level are 2.5524266027561415%\n",
      "missing values in enrolled_university are 1.860395446375075%\n",
      "missing values in enrollee_id are 0.0%\n",
      "missing values in experience are 0.3085680047932894%\n",
      "missing values in flag are 0.0%\n",
      "missing values in gender are 22.426602756141403%\n",
      "missing values in last_new_job are 2.0101857399640504%\n",
      "missing values in major_discipline are 15.67106051527861%\n",
      "missing values in relevent_experience are 0.0%\n",
      "missing values in target are 45.0%\n",
      "missing values in training_hours are 0.0%\n"
     ]
    }
   ],
   "source": [
    "for i in train.columns:\n",
    "    x=train[i].isna().sum()\n",
    "    print(\"missing values in {} are {}%\".format(i,(x/train.shape[0])*100))"
   ]
  },
  {
   "cell_type": "code",
   "execution_count": 176,
   "metadata": {},
   "outputs": [
    {
     "name": "stdout",
     "output_type": "stream",
     "text": [
      "unique values in city are 123 \n",
      "unique values in city_development_index are 93 \n",
      "unique values in company_size are 9 \n",
      "unique values in company_type are 7 \n",
      "unique values in education_level are 6 \n",
      "unique values in enrolled_university are 4 \n",
      "unique values in enrollee_id are 33380 \n",
      "unique values in experience are 23 \n",
      "unique values in flag are 2 \n",
      "unique values in gender are 4 \n",
      "unique values in last_new_job are 7 \n",
      "unique values in major_discipline are 7 \n",
      "unique values in relevent_experience are 2 \n",
      "unique values in target are 3 \n",
      "unique values in training_hours are 241 \n"
     ]
    }
   ],
   "source": [
    "#unique_values\n",
    "for i in train.columns:\n",
    "    print(\"unique values in {} are {} \".format(i,len(train[i].unique())))"
   ]
  },
  {
   "cell_type": "markdown",
   "metadata": {},
   "source": [
    "# DATA CLEANING"
   ]
  },
  {
   "cell_type": "code",
   "execution_count": 177,
   "metadata": {},
   "outputs": [
    {
     "name": "stdout",
     "output_type": "stream",
     "text": [
      "<class 'pandas.core.frame.DataFrame'>\n",
      "Int64Index: 33380 entries, 0 to 15020\n",
      "Data columns (total 15 columns):\n",
      "city                      33380 non-null object\n",
      "city_development_index    33380 non-null float64\n",
      "company_size              24550 non-null object\n",
      "company_type              24011 non-null object\n",
      "education_level           32528 non-null object\n",
      "enrolled_university       32759 non-null object\n",
      "enrollee_id               33380 non-null int64\n",
      "experience                33277 non-null object\n",
      "flag                      33380 non-null object\n",
      "gender                    25894 non-null object\n",
      "last_new_job              32709 non-null object\n",
      "major_discipline          28149 non-null object\n",
      "relevent_experience       33380 non-null object\n",
      "target                    18359 non-null float64\n",
      "training_hours            33380 non-null int64\n",
      "dtypes: float64(2), int64(2), object(11)\n",
      "memory usage: 4.1+ MB\n"
     ]
    }
   ],
   "source": [
    "train.info()"
   ]
  },
  {
   "cell_type": "code",
   "execution_count": 178,
   "metadata": {},
   "outputs": [
    {
     "data": {
      "text/plain": [
       "city                          0\n",
       "city_development_index        0\n",
       "company_size               8830\n",
       "company_type               9369\n",
       "education_level             852\n",
       "enrolled_university         621\n",
       "enrollee_id                   0\n",
       "experience                  103\n",
       "flag                          0\n",
       "gender                     7486\n",
       "last_new_job                671\n",
       "major_discipline           5231\n",
       "relevent_experience           0\n",
       "target                    15021\n",
       "training_hours                0\n",
       "dtype: int64"
      ]
     },
     "execution_count": 178,
     "metadata": {},
     "output_type": "execute_result"
    }
   ],
   "source": [
    "train.isna().sum()"
   ]
  },
  {
   "cell_type": "code",
   "execution_count": 179,
   "metadata": {},
   "outputs": [
    {
     "name": "stdout",
     "output_type": "stream",
     "text": [
      "(5190, 15)\n",
      "5231\n"
     ]
    }
   ],
   "source": [
    "#---------------------------------------------------------------------------------\n",
    "train[\"city\"]=train[\"city\"].str.replace(\"city_\",\"\")\n",
    "train[\"city\"]=pd.to_numeric(train[\"city\"],errors='coerce')\n",
    "\n",
    "#---------------------------------------------------------------------------------\n",
    "\n",
    "train[\"company_type\"]=train[\"company_type\"].fillna(\"Other1\")\n",
    "train[\"company_type\"]=train[\"company_type\"].map({'Pvt Ltd':0, 'Funded Startup':1, 'Public Sector':2, 'Other1':6,\n",
    "                                                 'Early Stage Startup':3, 'NGO':4, 'Other':5})\n",
    "\n",
    "#---------------------------------------------------------------------------------\n",
    "train[\"gender\"]=train[\"gender\"].fillna(\"other\")\n",
    "train[\"gender\"]=train[\"gender\"].map({'Male':1,'other':3,'Female':0,'Other':2})\n",
    "\n",
    "\n",
    "#---------------------------------------------------------------------------------\n",
    "\n",
    "train[\"company_size\"]=train[\"company_size\"].str.replace(\"/\",\"0\")\n",
    "train[\"company_size\"]=train[\"company_size\"].str.replace(\"<\",\"5-\")\n",
    "train[\"company_size\"]=train[\"company_size\"].fillna(\"unknown\")\n",
    "\n",
    "#---------------------------------------------------------------------------------\n",
    "train[\"relevent_experience\"]=train[\"relevent_experience\"].map({'Has relevent experience':1,'No relevent experience':0})\n",
    "\n",
    "\n",
    "#---------------------------------------------------------------------------------\n",
    "# cleaning education level\n",
    "train[\"education_level\"]=train[\"education_level\"].fillna(\"Other_Education_or_not_educated\")\n",
    "train[\"education_level\"]=train[\"education_level\"].map({'Graduate':3, 'Masters':4, 'High School':2, 'Phd':5,\n",
    "       'Other_Education_or_not_educated':0, 'Primary School':1})\n",
    "\n",
    "#---------------------------------------------------------------------------------\n",
    "#filling na  of major with no major because people who have not been graduated are not eligible for majors\n",
    "#people who study less than garduate are not eligible for majors\n",
    "trained_m=train[train[\"education_level\"]<3]\n",
    "print(trained_m.shape)\n",
    "print(train[\"major_discipline\"].isna().sum())\n",
    "train[\"major_discipline\"]=train[\"major_discipline\"].fillna(\"No Major\")\n",
    "\n",
    "#---------------------------------------------------------------------------------\n",
    "\n",
    "#cleaning experience level and filling na\n",
    "train[\"experience\"]=train[\"experience\"].str.replace(\">20\",\"25\")\n",
    "train[\"experience\"]=train[\"experience\"].str.replace(\"<1\",\"0\")\n",
    "train[\"experience\"]=pd.to_numeric(train[\"experience\"],errors='coerce')\n",
    "train[\"experience\"]=train[\"experience\"].fillna(0)\n",
    "\n",
    "#---------------------------------------------------------------------------------\n",
    "train[\"enrolled_university\"]=train[\"enrolled_university\"].fillna(\"no_enrollment\")\n",
    "train[\"enrolled_university\"]=train[\"enrolled_university\"].map({'no_enrollment':0,\n",
    "                                                               'Full time course':1,\n",
    "                                                               'Part time course':2})\n",
    "\n",
    "#---------------------------------------------------------------------------------\n",
    "train[\"last_new_job\"]=train[\"last_new_job\"].str.replace(\"never\",\"0\")\n",
    "\n",
    "train[\"last_new_job\"]=train[\"last_new_job\"].str.replace(\">4\",\"5\")\n",
    "train[\"last_new_job\"]=train[\"last_new_job\"].fillna(\"0\")\n",
    "train[\"last_new_job\"]=pd.to_numeric(train[\"last_new_job\"],errors='coerce')\n",
    "\n",
    "#---------------------------------------------------------------------------------\n",
    "newdata=pd.get_dummies(data=train,columns=['company_size','major_discipline'],prefix=\"dum\")\n",
    "#---------------------------------------------------------------------------------\n",
    "\n",
    "#saperating our data\n",
    "print(trained.shape)\n",
    "trained=newdata[newdata[\"flag\"]=='train']\n",
    "test=newdata[newdata[\"flag\"]=='test']\n",
    "print(trained.shape,test.shape)\n"
   ]
  },
  {
   "cell_type": "markdown",
   "metadata": {},
   "source": [
    "# SOME EDA"
   ]
  },
  {
   "cell_type": "code",
   "execution_count": 181,
   "metadata": {},
   "outputs": [],
   "source": []
  }
 ],
 "metadata": {
  "kernelspec": {
   "display_name": "Python 3",
   "language": "python",
   "name": "python3"
  },
  "language_info": {
   "codemirror_mode": {
    "name": "ipython",
    "version": 3
   },
   "file_extension": ".py",
   "mimetype": "text/x-python",
   "name": "python",
   "nbconvert_exporter": "python",
   "pygments_lexer": "ipython3",
   "version": "3.7.4"
  }
 },
 "nbformat": 4,
 "nbformat_minor": 4
}
